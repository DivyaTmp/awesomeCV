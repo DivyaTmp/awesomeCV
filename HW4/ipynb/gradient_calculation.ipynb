{
 "cells": [
  {
   "cell_type": "code",
   "execution_count": 1,
   "id": "b6df68a7-f334-4308-84c3-1b7baf13524c",
   "metadata": {},
   "outputs": [
    {
     "data": {
      "text/plain": [
       "<torch._C.Generator at 0x1cc5cc2afd0>"
      ]
     },
     "execution_count": 1,
     "metadata": {},
     "output_type": "execute_result"
    }
   ],
   "source": [
    "import torch\n",
    "\n",
    "torch.manual_seed(0)"
   ]
  },
  {
   "cell_type": "code",
   "execution_count": 2,
   "id": "70d96f76-9983-4b99-ab10-0159511be3ae",
   "metadata": {},
   "outputs": [
    {
     "name": "stdout",
     "output_type": "stream",
     "text": [
      "X =  tensor([[-1.1258, -1.1524, -0.2506, -0.4339],\n",
      "        [ 0.8487,  0.6920, -0.3160, -2.1152],\n",
      "        [ 0.3223, -1.2633,  0.3500,  0.3081],\n",
      "        [ 0.1198,  1.2377,  1.1168, -0.2473],\n",
      "        [-1.3527, -1.6959,  0.5667,  0.7935],\n",
      "        [ 0.5988, -1.5551, -0.3414,  1.8530],\n",
      "        [-0.2159, -0.7425,  0.5627,  0.2596],\n",
      "        [-0.1740, -0.6787,  0.9383,  0.4889],\n",
      "        [ 1.2032,  0.0845, -1.2001, -0.0048],\n",
      "        [-0.5181, -0.3067, -1.5810,  1.7066]], requires_grad=True)\n",
      "W =  tensor([[ 0.2055, -0.4503, -0.5731, -0.5554],\n",
      "        [ 0.5943,  1.5419,  0.5073, -0.5910],\n",
      "        [-1.3253,  0.1886, -0.0691, -0.4949],\n",
      "        [-1.4959, -0.1938,  0.4455,  1.3253]], requires_grad=True)\n",
      "Y =  tensor([[ 1.5091,  2.0820,  1.7067,  2.3804],\n",
      "        [-1.1256, -0.3170, -1.0925, -0.0852],\n",
      "        [ 0.3276, -0.7607, -1.5991,  0.0185],\n",
      "        [-0.7504,  0.1854,  0.6211,  0.6382],\n",
      "        [-0.0033, -0.5344,  1.1687,  0.3945],\n",
      "        [ 1.9415,  0.7915, -0.0203, -0.4372],\n",
      "        [-0.2188, -2.4351, -0.0729, -0.0340],\n",
      "        [ 0.9625,  0.3492, -0.9215, -0.0562],\n",
      "        [-0.6227, -0.4637,  1.9218, -0.4025],\n",
      "        [ 0.1239,  1.1648,  0.9234,  1.3873]], requires_grad=True)\n"
     ]
    }
   ],
   "source": [
    "X = torch.randn(10, 4, requires_grad = True)\n",
    "W = torch.randn(4, 4, requires_grad = True)\n",
    "Y = torch.randn(10, 4, requires_grad = True)\n",
    "print(\"X = \", X)\n",
    "print(\"W = \", W)\n",
    "print(\"Y = \", Y)"
   ]
  },
  {
   "cell_type": "code",
   "execution_count": 3,
   "id": "240f6091-299c-4ff5-adf1-18e9d0f5e6f2",
   "metadata": {},
   "outputs": [
    {
     "name": "stdout",
     "output_type": "stream",
     "text": [
      "f =  tensor(99.9048, grad_fn=<TraceBackward>)\n"
     ]
    }
   ],
   "source": [
    "A = torch.max(torch.mm(X, W), torch.zeros_like(X)) - Y\n",
    "f = torch.trace(torch.mm(A.t(), A))\n",
    "print(\"f = \", f)"
   ]
  },
  {
   "cell_type": "markdown",
   "id": "12fd3604-3bfb-4117-9849-96fc91542061",
   "metadata": {},
   "source": [
    "函数 $f=||max(XW, 0)-Y||^2_F$ 求导： "
   ]
  },
  {
   "cell_type": "code",
   "execution_count": 4,
   "id": "fc2ed49b-4723-4b7b-af4a-f8a21bb2019c",
   "metadata": {},
   "outputs": [
    {
     "name": "stdout",
     "output_type": "stream",
     "text": [
      "W =  tensor([[ 18.2980,   2.7573,   2.3914,  -0.1974],\n",
      "        [ 11.0817,   6.6428,   2.5163, -20.3225],\n",
      "        [ -8.6662,   3.4506,  -1.8979,  -3.3608],\n",
      "        [-21.1681,  -6.6739,  -1.0693,  27.0278]])\n",
      "X =  tensor([[  1.1002,   0.0860,   5.3377,   0.2788],\n",
      "        [  0.9583,  10.4633, -13.5234, -16.3639],\n",
      "        [ -0.8712,  -0.9272,  -0.7764,   2.0790],\n",
      "        [ -1.4504,   5.6914,   0.7613,  -0.9693],\n",
      "        [ -1.2892,  -3.4714,  -1.9788,   4.8091],\n",
      "        [ -4.0523,  -4.3127,  -3.6114,   9.6703],\n",
      "        [ -0.7312,  -0.7782,  -0.6516,   1.7449],\n",
      "        [ -0.8191,  -0.8718,  -0.7300,   1.9547],\n",
      "        [  1.0350,   2.9930,  -6.6743,  -7.5333],\n",
      "        [ -2.4616,  -2.4243,  -2.1164,   5.7128]])\n",
      "Y =  tensor([[ 2.8885e+00,  4.1639e+00,  3.4134e+00,  3.0501e+00],\n",
      "        [-1.0589e+01, -2.7045e+00, -2.1849e+00, -1.7039e-01],\n",
      "        [ 6.5523e-01, -1.5214e+00, -3.1982e+00, -1.5687e+00],\n",
      "        [-1.5009e+00, -3.8551e+00,  4.9843e-01,  1.2764e+00],\n",
      "        [-6.6077e-03, -1.0689e+00,  1.8791e+00, -4.2604e+00],\n",
      "        [ 3.8829e+00,  1.5830e+00, -4.0504e-02, -7.2968e+00],\n",
      "        [-4.3767e-01, -4.8701e+00, -1.4583e-01, -1.3166e+00],\n",
      "        [ 1.9250e+00,  6.9834e-01, -1.8429e+00, -1.4750e+00],\n",
      "        [-5.0359e+00, -9.2744e-01,  3.8436e+00, -8.0509e-01],\n",
      "        [ 2.4780e-01,  2.3296e+00, -1.7491e-01, -4.2519e+00]])\n"
     ]
    }
   ],
   "source": [
    "f.backward()\n",
    "print(\"W = \", W.grad)\n",
    "print(\"X = \", X.grad)\n",
    "print(\"Y = \", Y.grad)"
   ]
  },
  {
   "cell_type": "markdown",
   "id": "fb1b1372-4370-4909-b169-87c6be1041c8",
   "metadata": {},
   "source": [
    "首先求出 $\\max'(XW,0)$"
   ]
  },
  {
   "cell_type": "code",
   "execution_count": 5,
   "id": "6bec2420-9218-4ef6-9ba0-855e1c9711b1",
   "metadata": {},
   "outputs": [
    {
     "data": {
      "text/plain": [
       "tensor([[ True, False, False,  True],\n",
       "        [ True,  True, False, False],\n",
       "        [False, False, False,  True],\n",
       "        [False,  True,  True, False],\n",
       "        [False, False,  True,  True],\n",
       "        [False, False, False,  True],\n",
       "        [False, False, False,  True],\n",
       "        [False, False, False,  True],\n",
       "        [ True, False, False, False],\n",
       "        [False, False,  True,  True]])"
      ]
     },
     "execution_count": 5,
     "metadata": {},
     "output_type": "execute_result"
    }
   ],
   "source": [
    "max_grad = torch.max(X.mm(W), torch.zeros_like(X.mm(W))) > 0\n",
    "max_grad"
   ]
  },
  {
   "cell_type": "markdown",
   "id": "33adb8e8-14fc-4bec-96d6-4f6f1bc54b89",
   "metadata": {},
   "source": [
    "验证\n",
    "$\\frac{\\partial f}{\\partial W}\n",
    "= 2 X^T[(\\max(XW,0)-Y) \\odot \\max'(XW,0)]\n",
    "$"
   ]
  },
  {
   "cell_type": "code",
   "execution_count": 6,
   "id": "ad6c9c69-0809-416e-9d08-8b1293cac0b3",
   "metadata": {},
   "outputs": [
    {
     "data": {
      "text/plain": [
       "tensor([[True, True, True, True],\n",
       "        [True, True, True, True],\n",
       "        [True, True, True, True],\n",
       "        [True, True, True, True]])"
      ]
     },
     "execution_count": 6,
     "metadata": {},
     "output_type": "execute_result"
    }
   ],
   "source": [
    "W.grad == 2 * torch.mm(X.t(), (torch.max(X.mm(W), torch.zeros_like(X.mm(W))) - Y) * max_grad)"
   ]
  },
  {
   "cell_type": "markdown",
   "id": "0ee5bdae-22a6-4ce6-9ee7-e71144b20cc6",
   "metadata": {},
   "source": [
    "验证\n",
    "$\\frac{\\partial f}{\\partial X}\n",
    "= 2(\\max(XW,0)-Y) \\odot \\max'(XW,0) W^T\n",
    "$"
   ]
  },
  {
   "cell_type": "code",
   "execution_count": 7,
   "id": "778af82b-cbed-45a8-88da-875503ff4589",
   "metadata": {
    "tags": []
   },
   "outputs": [
    {
     "data": {
      "text/plain": [
       "tensor([[True, True, True, True],\n",
       "        [True, True, True, True],\n",
       "        [True, True, True, True],\n",
       "        [True, True, True, True],\n",
       "        [True, True, True, True],\n",
       "        [True, True, True, True],\n",
       "        [True, True, True, True],\n",
       "        [True, True, True, True],\n",
       "        [True, True, True, True],\n",
       "        [True, True, True, True]])"
      ]
     },
     "execution_count": 7,
     "metadata": {},
     "output_type": "execute_result"
    }
   ],
   "source": [
    "X.grad == 2* ((torch.max(X.mm(W), torch.zeros_like(X.mm(W))) - Y) * max_grad).mm(W.t())"
   ]
  },
  {
   "cell_type": "markdown",
   "id": "5553b57f-2cb9-4e00-abce-fef30e4f07ac",
   "metadata": {},
   "source": [
    "验证\n",
    "$\\frac{\\partial f}{\\partial Y}\n",
    "= 2(Y-\\max(XW,0))\n",
    "$"
   ]
  },
  {
   "cell_type": "code",
   "execution_count": 8,
   "id": "a877c110-26dc-414e-ad61-5a8f46aa4158",
   "metadata": {},
   "outputs": [
    {
     "data": {
      "text/plain": [
       "tensor([[True, True, True, True],\n",
       "        [True, True, True, True],\n",
       "        [True, True, True, True],\n",
       "        [True, True, True, True],\n",
       "        [True, True, True, True],\n",
       "        [True, True, True, True],\n",
       "        [True, True, True, True],\n",
       "        [True, True, True, True],\n",
       "        [True, True, True, True],\n",
       "        [True, True, True, True]])"
      ]
     },
     "execution_count": 8,
     "metadata": {},
     "output_type": "execute_result"
    }
   ],
   "source": [
    "Y.grad == 2 * (Y - torch.max(torch.mm(X, W), torch.zeros_like(X.mm(W))))"
   ]
  },
  {
   "cell_type": "code",
   "execution_count": null,
   "id": "eca10280-31af-4f1d-b86f-6c6154e42e40",
   "metadata": {},
   "outputs": [],
   "source": []
  }
 ],
 "metadata": {
  "kernelspec": {
   "display_name": "Python 3 (ipykernel)",
   "language": "python",
   "name": "python3"
  },
  "language_info": {
   "codemirror_mode": {
    "name": "ipython",
    "version": 3
   },
   "file_extension": ".py",
   "mimetype": "text/x-python",
   "name": "python",
   "nbconvert_exporter": "python",
   "pygments_lexer": "ipython3",
   "version": "3.7.0"
  }
 },
 "nbformat": 4,
 "nbformat_minor": 5
}
