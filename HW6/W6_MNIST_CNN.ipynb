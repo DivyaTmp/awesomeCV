{
 "cells": [
  {
   "cell_type": "code",
   "execution_count": 1,
   "id": "65376e8e",
   "metadata": {},
   "outputs": [],
   "source": [
    "%matplotlib inline\n",
    "import torch\n",
    "import torch.nn as nn\n",
    "import torch.utils.data as Data\n",
    "import torchvision\n",
    "import torch.nn.functional as F\n",
    "import numpy as np\n",
    "import matplotlib.pyplot as plt\n",
    "from datetime import datetime\n",
    "\n",
    "# torch.manual_seed(1)"
   ]
  },
  {
   "cell_type": "code",
   "execution_count": 2,
   "id": "4b20a527",
   "metadata": {},
   "outputs": [
    {
     "name": "stdout",
     "output_type": "stream",
     "text": [
      "train_data.shape: torch.Size([60000, 28, 28])\n",
      "test_data.shape: torch.Size([10000, 28, 28])\n",
      "train_x.shape: torch.Size([60000, 1, 28, 28])\n",
      "train_y.shape: torch.Size([60000])\n",
      "test_x.shape: torch.Size([2000, 1, 28, 28])\n",
      "test_y.shape: torch.Size([2000])\n"
     ]
    }
   ],
   "source": [
    "# 超参数设置\n",
    "EPOCH = 5\n",
    "LR = 0.001\n",
    "DOWNLOAD_MNIST = False\n",
    "\n",
    "\n",
    "# 制作训练集、测试集\n",
    "train_data = torchvision.datasets.MNIST(root='./mnist/', train=True, transform=torchvision.transforms.ToTensor(), download=False)\n",
    "test_data = torchvision.datasets.MNIST(root='./mnist/', train=False, transform=torchvision.transforms.ToTensor(), download=False)\n",
    "print(\"train_data.shape:\", train_data.data.shape)\n",
    "print(\"test_data.shape:\", test_data.data.shape)\n",
    "\n",
    "# 对训练数据进行预处理\n",
    "train_x = torch.unsqueeze(train_data.data, dim=1).type(torch.FloatTensor) / 255.\n",
    "train_y = train_data.targets\n",
    "print(\"train_x.shape:\", train_x.shape)\n",
    "print(\"train_y.shape:\", train_y.shape)\n",
    "\n",
    "# 对测试数据进行预处理\n",
    "test_x = torch.unsqueeze(test_data.data, dim=1).type(torch.FloatTensor)[:2000] / 255.  # Tensor on GPU\n",
    "test_y = test_data.targets[:2000]\n",
    "print(\"test_x.shape:\", test_x.shape)\n",
    "print(\"test_y.shape:\", test_y.shape)"
   ]
  },
  {
   "cell_type": "code",
   "execution_count": 3,
   "id": "47193c3d",
   "metadata": {},
   "outputs": [],
   "source": [
    "def train(net, train_x, train_y, test_x, test_y, EPOCH, optimizer, loss_func):\n",
    "    prev_time = datetime.now()\t# begin time\n",
    "\n",
    "    data_size = 20000\n",
    "    batch_size = 32\n",
    "\n",
    "    for epoch in range(EPOCH):\n",
    "        train_loss, train_acc = 0, 0\n",
    "        net.train() # train\n",
    "        random_indx = np.random.permutation(data_size)\n",
    "        for batch_i in range(data_size // batch_size):\n",
    "            indx = random_indx[batch_i * batch_size:(batch_i + 1) * batch_size]\n",
    "\n",
    "            b_x = train_x[indx, :]\n",
    "            b_y = train_y[indx]\n",
    "\n",
    "            output = net(b_x)\n",
    "            loss = loss_func(output, b_y)\n",
    "\n",
    "            loss.backward()\n",
    "            optimizer.step()\n",
    "            optimizer.zero_grad()\n",
    "             \n",
    "            if batch_i % 50 == 0:\n",
    "                net.eval()\t# eval\n",
    "                test_output = net(test_x)\n",
    "                pred_y = torch.max(test_output, 1)[1].data.squeeze()\n",
    "                accuracy = torch.sum(pred_y == test_y).type(torch.FloatTensor) / test_y.size(0)\n",
    "\n",
    "                train_losses.append(loss.data.cpu().numpy())\t# save for visualization\n",
    "                test_acces.append(accuracy)\t# save for visualization\n",
    "                \n",
    "        scheduler.step()  # update lr\n",
    "        \n",
    "        cur_time = datetime.now()\t# end time\n",
    "        h, remainder = divmod((cur_time - prev_time).seconds, 3600)\n",
    "        m, s = divmod(remainder, 60)\n",
    "        time_str = \"%02d:%02d:%02d\" % (h, m, s)\n",
    "        prev_time = cur_time\n",
    "\n",
    "        print('Epoch: ', epoch, '| train loss: %.4f' % loss.data.cpu().numpy(), '| test accuracy: %.3f' % accuracy,  '| time: ',time_str)"
   ]
  },
  {
   "cell_type": "code",
   "execution_count": 4,
   "id": "a612b47c",
   "metadata": {},
   "outputs": [],
   "source": [
    "def conv3x3(in_channel, out_channel, stride=1):\n",
    "    return nn.Conv2d(in_channel, out_channel, 3, stride=stride, padding=1, bias=False)\n",
    "\n",
    "\n",
    "class residual_block(nn.Module):\n",
    "    def __init__(self, in_channel, out_channel):\n",
    "        super(residual_block, self).__init__()\n",
    "        stride = 1\n",
    "        self.conv1 = conv3x3(in_channel, out_channel, stride=stride)\n",
    "        self.bn1 = nn.BatchNorm2d(out_channel)\t# batchnorm\n",
    "        self.dp1 = nn.Dropout(0.05)\t# dropout\n",
    "        self.conv2 = conv3x3(out_channel, out_channel)\n",
    "        self.bn2 = nn.BatchNorm2d(out_channel)\n",
    "        self.dp2 = nn.Dropout(0.05)\n",
    "        self.conv3 = nn.Conv2d(in_channel, out_channel, 1, stride=stride)\n",
    "        \n",
    "        \n",
    "    def forward(self, x):\n",
    "        out = self.conv1(x)\n",
    "        out = F.relu(self.bn1(out))\n",
    "        out = self.dp1(out)      \n",
    "        out = self.conv2(out)\n",
    "        out = F.relu(self.bn2(out))\n",
    "        out = self.dp2(out)        \n",
    "        x = self.conv3(x)\n",
    "        return F.relu(x + out)\n",
    "    \n",
    "    \n",
    "# 构建resnet网络结构\n",
    "class resnet(nn.Module):\n",
    "    def __init__(self, in_channel, num_classes):\n",
    "        super(resnet, self).__init__()\n",
    "        \n",
    "        # [b,1,28,28] -> [b,16,24,24]\n",
    "        self.block1 = nn.Conv2d(in_channel, 16, 5)\n",
    "      \n",
    "    \t# [b,16,24,24] -> [b,16,12,12] -> [b,16,12,12]\n",
    "        self.block2 = nn.Sequential(\n",
    "            nn.MaxPool2d(2, 2),\n",
    "            residual_block(16, 16)          \n",
    "        )\n",
    "   \t\t\n",
    "        # [b,16,12,12] -> [b,32,8,8]\n",
    "        self.block3 = nn.Conv2d(16, 32, 5)\n",
    "        \n",
    "        # [b,32,8,8] -> [b,32,4,4] -> [b,32,4,4]\n",
    "        self.block4 = nn.Sequential(\n",
    "            residual_block(32, 32),\n",
    "            nn.AvgPool2d(2)\n",
    "        )\n",
    "        \n",
    "        # [b,32,4,4] -> [b,10]\n",
    "        self.classifier = nn.Linear(512, num_classes)\n",
    "        \n",
    "    def forward(self, x):\n",
    "        x = self.block1(x)\n",
    "        x = self.block2(x)\n",
    "        x = self.block3(x)\n",
    "        x = self.block4(x)\n",
    "        x = x.view(x.shape[0], -1)\n",
    "        x = self.classifier(x)\n",
    "        return x\n",
    "    \n",
    "    \n",
    "net = resnet(1, 10)\n",
    "optimizer = torch.optim.Adam(net.parameters(), lr=LR, weight_decay=1e-4)\t# regularization\n",
    "scheduler = torch.optim.lr_scheduler.LambdaLR(optimizer, lr_lambda=lambda epoch: 1/(epoch+1), last_epoch=-1)\t# lr_dacay\n",
    "loss_func = nn.CrossEntropyLoss()\n",
    "\n",
    "train_losses, test_acces = [], []"
   ]
  },
  {
   "cell_type": "code",
   "execution_count": 5,
   "id": "7abbbc30",
   "metadata": {},
   "outputs": [
    {
     "name": "stdout",
     "output_type": "stream",
     "text": [
      "Epoch:  0 | train loss: 0.0539 | test accuracy: 0.952 | time:  00:00:56\n",
      "Epoch:  1 | train loss: 0.3075 | test accuracy: 0.966 | time:  00:01:00\n",
      "Epoch:  2 | train loss: 0.0183 | test accuracy: 0.982 | time:  00:00:59\n",
      "Epoch:  3 | train loss: 0.0254 | test accuracy: 0.979 | time:  00:00:59\n",
      "Epoch:  4 | train loss: 0.0233 | test accuracy: 0.980 | time:  00:00:59\n"
     ]
    }
   ],
   "source": [
    "train(net, train_x, train_y, test_x, test_y, EPOCH, optimizer, loss_func)"
   ]
  },
  {
   "cell_type": "code",
   "execution_count": 6,
   "id": "df15adb1",
   "metadata": {},
   "outputs": [
    {
     "data": {
      "text/plain": [
       "[<matplotlib.lines.Line2D at 0x20fba31d320>]"
      ]
     },
     "execution_count": 6,
     "metadata": {},
     "output_type": "execute_result"
    },
    {
     "data": {
      "image/png": "[encoded data removed]",
      "text/plain": [
       "<Figure size 432x288 with 1 Axes>"
      ]
     },
     "metadata": {
      "needs_background": "light"
     },
     "output_type": "display_data"
    }
   ],
   "source": [
    "plt.title('train loss')\n",
    "plt.plot(np.arange(len(train_losses)), train_losses)"
   ]
  },
  {
   "cell_type": "code",
   "execution_count": 7,
   "id": "9a4a1aa2",
   "metadata": {},
   "outputs": [
    {
     "data": {
      "text/plain": [
       "[<matplotlib.lines.Line2D at 0x20fb60a05f8>]"
      ]
     },
     "execution_count": 7,
     "metadata": {},
     "output_type": "execute_result"
    },
    {
     "data": {
      "image/png": "[encoded data removed]",
      "text/plain": [
       "<Figure size 432x288 with 1 Axes>"
      ]
     },
     "metadata": {
      "needs_background": "light"
     },
     "output_type": "display_data"
    }
   ],
   "source": [
    "plt.title('test accuracy')\n",
    "plt.plot(np.arange(len(test_acces)), test_acces, 'y')"
   ]
  },
  {
   "cell_type": "code",
   "execution_count": 8,
   "id": "61317469",
   "metadata": {},
   "outputs": [
    {
     "name": "stdout",
     "output_type": "stream",
     "text": [
      "Accuracy for test_data: 0.984\n"
     ]
    }
   ],
   "source": [
    "print(\"Accuracy for test_data:\", test_acces[-1].numpy())"
   ]
  },
  {
   "cell_type": "code",
   "execution_count": null,
   "id": "851b97b2",
   "metadata": {},
   "outputs": [
    {
     "name": "stdout",
     "output_type": "stream",
     "text": [
      "prediction number: 7\n",
      "real number: [7]\n"
     ]
    },
    {
     "data": {
      "image/png": "[encoded data removed]",
      "text/plain": [
       "<Figure size 432x288 with 1 Axes>"
      ]
     },
     "metadata": {
      "needs_background": "light"
     },
     "output_type": "display_data"
    },
    {
     "name": "stdout",
     "output_type": "stream",
     "text": [
      "prediction number: 2\n",
      "real number: [2]\n"
     ]
    },
    {
     "data": {
      "image/png": "[encoded data removed]",
      "text/plain": [
       "<Figure size 432x288 with 1 Axes>"
      ]
     },
     "metadata": {
      "needs_background": "light"
     },
     "output_type": "display_data"
    },
    {
     "name": "stdout",
     "output_type": "stream",
     "text": [
      "prediction number: 1\n",
      "real number: [1]\n"
     ]
    },
    {
     "data": {
      "image/png": "[encoded data removed]",
      "text/plain": [
       "<Figure size 432x288 with 1 Axes>"
      ]
     },
     "metadata": {
      "needs_background": "light"
     },
     "output_type": "display_data"
    },
    {
     "name": "stdout",
     "output_type": "stream",
     "text": [
      "prediction number: 0\n",
      "real number: [0]\n"
     ]
    },
    {
     "data": {
      "image/png": "[encoded data removed]",
      "text/plain": [
       "<Figure size 432x288 with 1 Axes>"
      ]
     },
     "metadata": {
      "needs_background": "light"
     },
     "output_type": "display_data"
    }
   ],
   "source": [
    "from IPython.core.interactiveshell import InteractiveShell\n",
    "InteractiveShell.ast_node_interactivity = \"all\"\n",
    "\n",
    "\n",
    "for i in range(10):\n",
    "    test_output = net(test_x[i:i+1])\n",
    "    pred_y = torch.max(test_output, 1)[1].data.squeeze()  # move the computation in GPU\n",
    "    \n",
    "    plt.ion()\n",
    "    plt.imshow(test_x[i:i+1].numpy().squeeze(), 'gray')\n",
    "    print('prediction number:', pred_y.numpy())  \n",
    "    print('real number:', test_y[i:i+1].numpy())\n",
    "    plt.pause(1)\n",
    "    plt.close()\n",
    "  "
   ]
  },
  {
   "cell_type": "code",
   "execution_count": null,
   "id": "2a8c60dd",
   "metadata": {},
   "outputs": [],
   "source": []
  }
 ],
 "metadata": {
  "kernelspec": {
   "display_name": "Python 3 (ipykernel)",
   "language": "python",
   "name": "python3"
  },
  "language_info": {
   "codemirror_mode": {
    "name": "ipython",
    "version": 3
   },
   "file_extension": ".py",
   "mimetype": "text/x-python",
   "name": "python",
   "nbconvert_exporter": "python",
   "pygments_lexer": "ipython3",
   "version": "3.7.0"
  }
 },
 "nbformat": 4,
 "nbformat_minor": 5
}
